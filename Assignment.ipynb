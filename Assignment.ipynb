{
  "metadata": {
    "language_info": {
      "codemirror_mode": {
        "name": "python",
        "version": 3
      },
      "file_extension": ".py",
      "mimetype": "text/x-python",
      "name": "python",
      "nbconvert_exporter": "python",
      "pygments_lexer": "ipython3",
      "version": "3.8"
    },
    "kernelspec": {
      "name": "python",
      "display_name": "Pyolite",
      "language": "python"
    }
  },
  "nbformat_minor": 4,
  "nbformat": 4,
  "cells": [
    {
      "cell_type": "markdown",
      "source": "# My Jupyter Notebook on IBM Watson Studio",
      "metadata": {}
    },
    {
      "cell_type": "markdown",
      "source": "**Phuoc Huynh**\n\nData Analyst",
      "metadata": {}
    },
    {
      "cell_type": "markdown",
      "source": "*I am interested in data science because I love working with data and coding.*",
      "metadata": {}
    },
    {
      "cell_type": "markdown",
      "source": "### The following code show the sum of 1 and 9",
      "metadata": {}
    },
    {
      "cell_type": "code",
      "source": "result = 1 + 9\nresult",
      "metadata": {
        "trusted": true
      },
      "execution_count": 3,
      "outputs": [
        {
          "execution_count": 3,
          "output_type": "execute_result",
          "data": {
            "text/plain": "10"
          },
          "metadata": {}
        }
      ]
    },
    {
      "cell_type": "markdown",
      "source": ">This is good\n\n<ol>\n<li>Fish</li>\n<li>Eggs</li>\n<li>Cheese</li>\n</ol>\n\n<ul>\n<li>Fish</li>\n<li>Eggs</li>\n<li>Cheese</li>\n</ul>",
      "metadata": {}
    }
  ]
}